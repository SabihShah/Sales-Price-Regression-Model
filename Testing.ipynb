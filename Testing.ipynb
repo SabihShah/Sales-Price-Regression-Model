{
 "cells": [
  {
   "cell_type": "markdown",
   "metadata": {},
   "source": [
    "## Contrato Spot"
   ]
  },
  {
   "cell_type": "code",
   "execution_count": 1,
   "metadata": {},
   "outputs": [],
   "source": [
    "import pickle\n",
    "\n",
    "# Load the pickle file containing the model and scaler functions\n",
    "with open('Spot_Model_and_scaler.pkl', 'rb') as file:\n",
    "    objects = pickle.load(file)\n",
    "    \n",
    "Spot_model = objects['model']\n",
    "Spot_scaler = objects['scaler']"
   ]
  },
  {
   "cell_type": "code",
   "execution_count": 2,
   "metadata": {},
   "outputs": [],
   "source": [
    "import numpy as np\n",
    "\n",
    "# Predict function takes in the features as inputs and return the sales price\n",
    "def predict(N_material, Lbmo_material, Total_Factura, Costo_Total, margen_venta, model=Spot_model, scaler=Spot_scaler):\n",
    "    if N_material not in [2020, 1000, 2010, 2000, 2130, 2070, 2210]:\n",
    "        raise ValueError(\"Error: The chosen 'Nº Material' is not recognized by the model.\")\n",
    "    \n",
    "    features = np.array([Lbmo_material, Total_Factura, Costo_Total, margen_venta]).reshape(1,-1)\n",
    "    scaled = scaler.transform(features)\n",
    "    # print(scaled)\n",
    "    inputs = np.hstack([[N_material], scaled[0]])\n",
    "    input_data = inputs.reshape(1,-1)\n",
    "    prediction = model.predict(input_data)\n",
    "    \n",
    "    return prediction"
   ]
  },
  {
   "cell_type": "code",
   "execution_count": 3,
   "metadata": {},
   "outputs": [
    {
     "name": "stderr",
     "output_type": "stream",
     "text": [
      "f:\\Hassan\\sales_price\\Lib\\site-packages\\sklearn\\base.py:493: UserWarning: X does not have valid feature names, but MinMaxScaler was fitted with feature names\n",
      "  warnings.warn(\n",
      "f:\\Hassan\\sales_price\\Lib\\site-packages\\sklearn\\base.py:493: UserWarning: X does not have valid feature names, but RandomForestRegressor was fitted with feature names\n",
      "  warnings.warn(\n"
     ]
    },
    {
     "data": {
      "text/plain": [
       "array([8.3099])"
      ]
     },
     "execution_count": 3,
     "metadata": {},
     "output_type": "execute_result"
    }
   ],
   "source": [
    "predict(2020, 32651.334, 270350.28, 263651.55, 6698.73)"
   ]
  },
  {
   "cell_type": "markdown",
   "metadata": {},
   "source": [
    "## Contrato Regular"
   ]
  },
  {
   "cell_type": "code",
   "execution_count": 4,
   "metadata": {},
   "outputs": [],
   "source": [
    "with open('Regular_models_and_scalers.pkl', 'rb') as file:\n",
    "    objects = pickle.load(file)\n",
    "    \n",
    "Regular_models = objects['models']\n",
    "Regular_scaler_targets = objects['scaler_target']\n",
    "Regular_scaler_features = objects['scaler_features']"
   ]
  },
  {
   "cell_type": "code",
   "execution_count": 5,
   "metadata": {},
   "outputs": [],
   "source": [
    "def predict_sales_price(N_Material, Lbmo_material, Total_Factura, Costo_Total, margen_venta, models=Regular_models, scalers_targets=Regular_scaler_targets, scaler_features=Regular_scaler_features):\n",
    "    \n",
    "    if N_Material not in [2020, 2000, 2010]:\n",
    "        raise ValueError(\"Error: The chosen 'Nº Material' is not recognized by the model.\")\n",
    "    \n",
    "    # Scale the features using the fitted scaler\n",
    "    features_to_scale = np.array([Lbmo_material, Total_Factura, Costo_Total, margen_venta]).reshape(1,-1)\n",
    "    scaled_features = scaler_features.transform(features_to_scale)\n",
    "    features = np.hstack([[N_Material], scaled_features[0]]).reshape(1,-1)\n",
    "    # print(features)\n",
    "    \n",
    "    # Predict each component and unscale the predictions\n",
    "    targets = ['Precio Unitario Venta  US$/Lb', 'Surcharge', 'Factor BQM']\n",
    "    predictions = {}\n",
    "    for target in targets:\n",
    "        pred_scaled = models[target].predict(features)\n",
    "        pred_unscaled = scalers_targets[target].inverse_transform(pred_scaled.reshape(-1, 1))[0, 0]\n",
    "        predictions[target] = pred_unscaled\n",
    "    \n",
    "    # Calculate the sales price\n",
    "    sales_price = (predictions['Precio Unitario Venta  US$/Lb'] * predictions['Factor BQM']) + predictions['Surcharge']\n",
    "    print('Precio:', predictions['Precio Unitario Venta  US$/Lb'])\n",
    "    print('Factor BQM:', predictions['Factor BQM'])\n",
    "    print('Surcharge:', predictions['Surcharge'])\n",
    "    return sales_price"
   ]
  },
  {
   "cell_type": "code",
   "execution_count": 6,
   "metadata": {},
   "outputs": [
    {
     "name": "stdout",
     "output_type": "stream",
     "text": [
      "Precio: 10.1489\n",
      "Factor BQM: 1.0\n",
      "Surcharge: 0.06445000001084512\n"
     ]
    },
    {
     "name": "stderr",
     "output_type": "stream",
     "text": [
      "f:\\Hassan\\sales_price\\Lib\\site-packages\\sklearn\\base.py:493: UserWarning: X does not have valid feature names, but MinMaxScaler was fitted with feature names\n",
      "  warnings.warn(\n",
      "f:\\Hassan\\sales_price\\Lib\\site-packages\\sklearn\\base.py:493: UserWarning: X does not have valid feature names, but RandomForestRegressor was fitted with feature names\n",
      "  warnings.warn(\n",
      "f:\\Hassan\\sales_price\\Lib\\site-packages\\sklearn\\base.py:493: UserWarning: X does not have valid feature names, but RandomForestRegressor was fitted with feature names\n",
      "  warnings.warn(\n",
      "f:\\Hassan\\sales_price\\Lib\\site-packages\\sklearn\\base.py:493: UserWarning: X does not have valid feature names, but RandomForestRegressor was fitted with feature names\n",
      "  warnings.warn(\n"
     ]
    },
    {
     "data": {
      "text/plain": [
       "np.float64(10.213350000010845)"
      ]
     },
     "execution_count": 6,
     "metadata": {},
     "output_type": "execute_result"
    }
   ],
   "source": [
    "predict_sales_price(2020, 16000.019, 168800, 150869.47, 17930.53)"
   ]
  }
 ],
 "metadata": {
  "kernelspec": {
   "display_name": "Python 3",
   "language": "python",
   "name": "python3"
  },
  "language_info": {
   "codemirror_mode": {
    "name": "ipython",
    "version": 3
   },
   "file_extension": ".py",
   "mimetype": "text/x-python",
   "name": "python",
   "nbconvert_exporter": "python",
   "pygments_lexer": "ipython3",
   "version": "3.12.4"
  }
 },
 "nbformat": 4,
 "nbformat_minor": 2
}
