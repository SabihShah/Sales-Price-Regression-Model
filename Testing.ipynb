{
 "cells": [
  {
   "cell_type": "markdown",
   "metadata": {},
   "source": [
    "## Contrato Spot"
   ]
  },
  {
   "cell_type": "code",
   "execution_count": 2,
   "metadata": {},
   "outputs": [],
   "source": [
    "import pickle\n",
    "\n",
    "# Load the pickle file containing the model and scaler functions\n",
    "with open('Spot_Model_and_scaler.pkl', 'rb') as file:\n",
    "    objects = pickle.load(file)\n",
    "    \n",
    "Spot_model = objects['model']\n",
    "Spot_scaler = objects['scaler']"
   ]
  },
  {
   "cell_type": "code",
   "execution_count": 2,
   "metadata": {},
   "outputs": [],
   "source": [
    "# import numpy as np\n",
    "\n",
    "# # Predict function takes in the features as inputs and return the sales price\n",
    "# def predict(N_material, Lbmo_material, Total_Factura, Costo_Total, margen_venta, model=Spot_model, scaler=Spot_scaler):\n",
    "#     if N_material not in [2020, 1000, 2010, 2000, 2130, 2070, 2210]:\n",
    "#         raise ValueError(\"Error: The chosen 'Nº Material' is not recognized by the model.\")\n",
    "    \n",
    "#     features = np.array([Lbmo_material, Total_Factura, Costo_Total, margen_venta]).reshape(1,-1)\n",
    "#     scaled = scaler.transform(features)\n",
    "#     # print(scaled)\n",
    "#     inputs = np.hstack([[N_material], scaled[0]])\n",
    "#     input_data = inputs.reshape(1,-1)\n",
    "#     prediction = model.predict(input_data)\n",
    "    \n",
    "#     return prediction"
   ]
  },
  {
   "cell_type": "markdown",
   "metadata": {},
   "source": [
    "## For Multiple inputs"
   ]
  },
  {
   "cell_type": "markdown",
   "metadata": {},
   "source": [
    "### For features as a list of dictionaries"
   ]
  },
  {
   "cell_type": "code",
   "execution_count": 7,
   "metadata": {},
   "outputs": [],
   "source": [
    "import numpy as np\n",
    "\n",
    "def predictions(features:list, model=Spot_model, scaler=Spot_scaler):                             # features = {N_material, Lbmo_material, Total_Factura, Costo_Total, margen_venta}\n",
    "    sales_prices = []\n",
    "    for feature in features:\n",
    "        if feature['N_material'] not in [2020, 1000, 2010, 2000, 2130, 2070, 2210]:\n",
    "            # raise ValueError(\"Error: The chosen 'Nº Material' is not recognized by the model.\")\n",
    "            sales_prices.append(\"Error: The chosen 'Nº Material' is not recognized by the model.\")\n",
    "            continue\n",
    "        \n",
    "        feats = np.array([feature['Lbmo_material'], feature['Total_factura'], feature['Costo_total'], feature['Margen_venta']]).reshape(1,-1)    # normalize the features excluding N_material\n",
    "        scaled = scaler.transform(feats)\n",
    "        \n",
    "         # prediction = model.predict(N_material, scaled)\n",
    "        inputs = np.hstack([[feature['N_material']], scaled[0]])   # Add N_material to the features list\n",
    "        input_data = inputs.reshape(1,-1)\n",
    "        prediction = model.predict(input_data)\n",
    "        \n",
    "        sales_prices.append(prediction)\n",
    "    \n",
    "    return sales_prices"
   ]
  },
  {
   "cell_type": "markdown",
   "metadata": {},
   "source": [
    "### For feature as a list of lists"
   ]
  },
  {
   "cell_type": "code",
   "execution_count": 3,
   "metadata": {},
   "outputs": [],
   "source": [
    "def predictions(features:list, model=Spot_model, scaler=Spot_scaler):       \n",
    "    sales_prices = []\n",
    "    \n",
    "    for feature in features:\n",
    "        if feature[0] not in [2020, 1000, 2010, 2000, 2130, 2070, 2210]:\n",
    "            # raise ValueError(\"Error: The chosen 'Nº Material' is not recognized by the model.\")\n",
    "            sales_prices.append(\"Error: The chosen 'Nº Material' is not recognized by the model.\")\n",
    "            continue\n",
    "        \n",
    "        feats = np.array([feature[1], feature[2], feature[3], feature[4]]).reshape(1,-1)    # normalize the features excluding N_material\n",
    "        scaled = scaler.transform(feats)\n",
    "        \n",
    "         # prediction = model.predict(N_material, scaled)\n",
    "        inputs = np.hstack([[feature[0]], scaled[0]])   # Add N_material to the features list\n",
    "        input_data = inputs.reshape(1,-1)\n",
    "        prediction = model.predict(input_data)\n",
    "        \n",
    "        sales_prices.append(prediction)\n",
    "    \n",
    "    return sales_prices"
   ]
  },
  {
   "cell_type": "code",
   "execution_count": 8,
   "metadata": {},
   "outputs": [
    {
     "name": "stderr",
     "output_type": "stream",
     "text": [
      "f:\\Hassan\\sales_price\\Lib\\site-packages\\sklearn\\base.py:493: UserWarning: X does not have valid feature names, but MinMaxScaler was fitted with feature names\n",
      "  warnings.warn(\n",
      "f:\\Hassan\\sales_price\\Lib\\site-packages\\sklearn\\base.py:493: UserWarning: X does not have valid feature names, but RandomForestRegressor was fitted with feature names\n",
      "  warnings.warn(\n"
     ]
    },
    {
     "data": {
      "text/plain": [
       "[array([9.1555]),\n",
       " \"Error: The chosen 'Nº Material' is not recognized by the model.\"]"
      ]
     },
     "execution_count": 8,
     "metadata": {},
     "output_type": "execute_result"
    }
   ],
   "source": [
    "import numpy as np\n",
    "\n",
    "# predictions([[2020, 32651.334, 270350.28, 263651.55, 6698.73]])\n",
    "predictions([{'N_material':2020, 'Lbmo_material':26746, 'Total_factura':244725, 'Costo_total':237527.73, 'Margen_venta':7198.17},\n",
    "             {'N_material':3020, 'Lbmo_material':26746, 'Total_factura':244725, 'Costo_total':237527.73, 'Margen_venta':7198.17}])"
   ]
  },
  {
   "cell_type": "markdown",
   "metadata": {},
   "source": [
    "## Contrato Regular"
   ]
  },
  {
   "cell_type": "code",
   "execution_count": 9,
   "metadata": {},
   "outputs": [],
   "source": [
    "with open('Regular_models_and_scalers.pkl', 'rb') as file:\n",
    "    objects = pickle.load(file)\n",
    "    \n",
    "Regular_models = objects['models']\n",
    "Regular_scaler_targets = objects['scaler_target']\n",
    "Regular_scaler_features = objects['scaler_features']"
   ]
  },
  {
   "cell_type": "code",
   "execution_count": 5,
   "metadata": {},
   "outputs": [],
   "source": [
    "# def predict_sales_price(N_Material, Lbmo_material, Total_Factura, Costo_Total, margen_venta, models=Regular_models, scalers_targets=Regular_scaler_targets, scaler_features=Regular_scaler_features):\n",
    "    \n",
    "#     if N_Material not in [2020, 2000, 2010]:\n",
    "#         raise ValueError(\"Error: The chosen 'Nº Material' is not recognized by the model.\")\n",
    "    \n",
    "#     # Scale the features using the fitted scaler\n",
    "#     features_to_scale = np.array([Lbmo_material, Total_Factura, Costo_Total, margen_venta]).reshape(1,-1)\n",
    "#     scaled_features = scaler_features.transform(features_to_scale)\n",
    "#     features = np.hstack([[N_Material], scaled_features[0]]).reshape(1,-1)\n",
    "#     # print(features)\n",
    "    \n",
    "#     # Predict each component and unscale the predictions\n",
    "#     targets = ['Precio Unitario Venta  US$/Lb', 'Surcharge', 'Factor BQM']\n",
    "#     predictions = {}\n",
    "#     for target in targets:\n",
    "#         pred_scaled = models[target].predict(features)\n",
    "#         pred_unscaled = scalers_targets[target].inverse_transform(pred_scaled.reshape(-1, 1))[0, 0]\n",
    "#         predictions[target] = pred_unscaled\n",
    "    \n",
    "#     # Calculate the sales price\n",
    "#     precio = predictions['Precio Unitario Venta  US$/Lb']\n",
    "#     bqm = predictions['Factor BQM']\n",
    "#     surcharge = predictions['Surcharge']\n",
    "    \n",
    "#     sales_price = (precio * bqm) + surcharge\n",
    "    \n",
    "#     print('Precio:', precio)\n",
    "#     print('Factor BQM:', bqm)\n",
    "#     print('Surcharge:', surcharge)\n",
    "#     print('Sales Price:', sales_price)\n",
    "    \n",
    "#     return precio, bqm, surcharge, sales_price"
   ]
  },
  {
   "cell_type": "markdown",
   "metadata": {},
   "source": [
    "### For features as a list of dictionaries"
   ]
  },
  {
   "cell_type": "code",
   "execution_count": 10,
   "metadata": {},
   "outputs": [],
   "source": [
    "def predicted_sales(features:list, models=Regular_models, scalers_targets=Regular_scaler_targets, scaler_features=Regular_scaler_features):\n",
    "    sales_prices = []\n",
    "    for feature in features:\n",
    "        if feature['N_Material'] not in [2020, 2000, 2010]:\n",
    "            # raise ValueError(\"Error: The chosen 'Nº Material' is not recognized by the model.\")\n",
    "            sales_prices.append(\"Error: The chosen 'Nº Material' is not recognized by the model.\")\n",
    "            continue\n",
    "        \n",
    "        # Scale the features using the fitted scaler\n",
    "        features_to_scale = np.array([feature['Lbmo_material'], feature['Total_Factura'], feature['Costo_Total'], feature['margen_venta']]).reshape(1,-1)\n",
    "        scaled_features = scaler_features.transform(features_to_scale)\n",
    "        features = np.hstack([[feature['N_Material']], scaled_features[0]]).reshape(1,-1)\n",
    "        \n",
    "        targets = ['Precio Unitario Venta  US$/Lb', 'Surcharge', 'Factor BQM']\n",
    "        \n",
    "        preds = {}\n",
    "        for target in targets:\n",
    "            pred_scaled = models[target].predict(features)\n",
    "            pred_unscaled = scalers_targets[target].inverse_transform(pred_scaled.reshape(-1, 1))[0, 0]\n",
    "            preds[target] = pred_unscaled\n",
    "            \n",
    "        precio = preds['Precio Unitario Venta  US$/Lb']\n",
    "        bqm = preds['Factor BQM']\n",
    "        surcharge = preds['Surcharge']\n",
    "            \n",
    "        sales_price = (precio * bqm) + surcharge\n",
    "        \n",
    "        sales_prices.append(sales_price)\n",
    "        \n",
    "    return sales_prices"
   ]
  },
  {
   "cell_type": "code",
   "execution_count": 14,
   "metadata": {},
   "outputs": [
    {
     "name": "stderr",
     "output_type": "stream",
     "text": [
      "f:\\Hassan\\sales_price\\Lib\\site-packages\\sklearn\\base.py:493: UserWarning: X does not have valid feature names, but MinMaxScaler was fitted with feature names\n",
      "  warnings.warn(\n",
      "f:\\Hassan\\sales_price\\Lib\\site-packages\\sklearn\\base.py:493: UserWarning: X does not have valid feature names, but RandomForestRegressor was fitted with feature names\n",
      "  warnings.warn(\n",
      "f:\\Hassan\\sales_price\\Lib\\site-packages\\sklearn\\base.py:493: UserWarning: X does not have valid feature names, but RandomForestRegressor was fitted with feature names\n",
      "  warnings.warn(\n",
      "f:\\Hassan\\sales_price\\Lib\\site-packages\\sklearn\\base.py:493: UserWarning: X does not have valid feature names, but RandomForestRegressor was fitted with feature names\n",
      "  warnings.warn(\n"
     ]
    },
    {
     "data": {
      "text/plain": [
       "[np.float64(9.1426999999177),\n",
       " \"Error: The chosen 'Nº Material' is not recognized by the model.\"]"
      ]
     },
     "execution_count": 14,
     "metadata": {},
     "output_type": "execute_result"
    }
   ],
   "source": [
    "# predict_sales_price(2020, 16000.019, 168800, 150869.47, 17930.53)\n",
    "predicted_sales([{'N_Material':2020, 'Lbmo_material':26746, 'Total_Factura':244725, 'Costo_Total':237527.73, 'margen_venta':7198.17},\n",
    "             {'N_Material':3020, 'Lbmo_material':26746, 'Total_Factura':244725, 'Costo_Total':237527.73, 'margen_venta':7198.17}])"
   ]
  }
 ],
 "metadata": {
  "kernelspec": {
   "display_name": "Python 3",
   "language": "python",
   "name": "python3"
  },
  "language_info": {
   "codemirror_mode": {
    "name": "ipython",
    "version": 3
   },
   "file_extension": ".py",
   "mimetype": "text/x-python",
   "name": "python",
   "nbconvert_exporter": "python",
   "pygments_lexer": "ipython3",
   "version": "3.12.5"
  }
 },
 "nbformat": 4,
 "nbformat_minor": 2
}
